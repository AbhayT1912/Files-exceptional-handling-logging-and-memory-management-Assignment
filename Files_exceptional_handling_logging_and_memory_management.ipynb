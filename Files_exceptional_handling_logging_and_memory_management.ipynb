{
  "nbformat": 4,
  "nbformat_minor": 0,
  "metadata": {
    "colab": {
      "provenance": []
    },
    "kernelspec": {
      "name": "python3",
      "display_name": "Python 3"
    },
    "language_info": {
      "name": "python"
    }
  },
  "cells": [
    {
      "cell_type": "markdown",
      "source": [
        "# Files, exceptional handling, logging and memory Management Assignment"
      ],
      "metadata": {
        "id": "4ALjVlvR6f66"
      }
    },
    {
      "cell_type": "markdown",
      "source": [
        "# Theory Questions"
      ],
      "metadata": {
        "id": "zm9-Brd76rII"
      }
    },
    {
      "cell_type": "markdown",
      "source": [
        "1.  What is the difference between interpreted and compiled languages?\n",
        "\n",
        "-> Compiled languages: Source code is translated entirely to machine code before execution. Examples: C, C++, Rust\n",
        "\n",
        "Interpreted languages: Source code is executed line by line at runtime. Examples: Python, JavaScript, Ruby\n",
        "\n",
        "Python is technically an interpreted language, but it uses an intermediate step where code is compiled to bytecode first, then interpreted by the Python virtual machine."
      ],
      "metadata": {
        "id": "4xar2NWd6ufL"
      }
    },
    {
      "cell_type": "markdown",
      "source": [
        "2.  What is exception handling in Python?\n",
        "\n",
        "-> Exception handling is a mechanism to handle runtime errors gracefully without terminating the program. It uses try, except, else, and finally blocks to catch and manage errors."
      ],
      "metadata": {
        "id": "yl14M1cP68qR"
      }
    },
    {
      "cell_type": "code",
      "source": [
        "# Example\n",
        "\n",
        "try:\n",
        "    result = 10 / 0\n",
        "except ZeroDivisionError:\n",
        "    print(\"Cannot divide by zero\")\n",
        "except Exception as e:\n",
        "    print(f\"An error occurred: {e}\")\n",
        "else:\n",
        "    print(\"Division successful\")\n",
        "finally:\n",
        "    print(\"This will always execute\")"
      ],
      "metadata": {
        "colab": {
          "base_uri": "https://localhost:8080/"
        },
        "id": "KFxLzY2C7Jtg",
        "outputId": "2d509874-1d52-4932-d70c-3997eb3ec47a"
      },
      "execution_count": 2,
      "outputs": [
        {
          "output_type": "stream",
          "name": "stdout",
          "text": [
            "Cannot divide by zero\n",
            "This will always execute\n"
          ]
        }
      ]
    },
    {
      "cell_type": "markdown",
      "source": [
        "3.  What is the purpose of the finally block in exception handling?\n",
        "\n",
        "-> Purpose of the finally block in exception handling:\n",
        "The finally block contains code that will always execute, regardless of whether an exception occurred or not. It's typically used for cleanup operations like closing files or network connections to ensure resources are properly released."
      ],
      "metadata": {
        "id": "s33R-kuK7cwk"
      }
    },
    {
      "cell_type": "markdown",
      "source": [
        "4.  What is logging in Python?\n",
        "\n",
        "-> Logging is a way to track events and record information about a program's execution. Python provides the logging module to handle this functionality, allowing developers to track errors, warnings, and informational messages."
      ],
      "metadata": {
        "id": "4T7rUoSd7qMl"
      }
    },
    {
      "cell_type": "markdown",
      "source": [
        "5. What is the significance of the __del__ method in Python?\n",
        "\n",
        "-> The del method (destructor) is called when an object is about to be destroyed (garbage collected). It's used to define cleanup actions for an object before it's removed from memory."
      ],
      "metadata": {
        "id": "3aFrRn8-7zq7"
      }
    },
    {
      "cell_type": "code",
      "source": [
        "# example:-\n",
        "\n",
        "class MyClass:\n",
        "    def __init__(self, name):\n",
        "        self.name = name\n",
        "        print(f\"Object {self.name} created\")\n",
        "\n",
        "    def __del__(self):\n",
        "        print(f\"Object {self.name} destroyed\")\n",
        "\n",
        "obj = MyClass(\"Example\")\n",
        "del obj"
      ],
      "metadata": {
        "colab": {
          "base_uri": "https://localhost:8080/"
        },
        "id": "4TAfX_OD78Od",
        "outputId": "978c184a-0f36-4c01-a38a-d4b5cb65e180"
      },
      "execution_count": 3,
      "outputs": [
        {
          "output_type": "stream",
          "name": "stdout",
          "text": [
            "Object Example created\n",
            "Object Example destroyed\n"
          ]
        }
      ]
    },
    {
      "cell_type": "markdown",
      "source": [
        "6. What is the difference between import and from ... import in Python?\n",
        "\n",
        "-> import module: Imports the entire module, accessed via module.attribute\n",
        "\n",
        "\n",
        "from module import item: Imports specific items from a module, accessed directly"
      ],
      "metadata": {
        "id": "pKacv_4p8L9N"
      }
    },
    {
      "cell_type": "code",
      "source": [
        "# Using import\n",
        "import math\n",
        "result = math.sqrt(16)\n",
        "\n",
        "# Using from ... import\n",
        "from math import sqrt\n",
        "result = sqrt(16)"
      ],
      "metadata": {
        "id": "a4tE59wB8iZ3"
      },
      "execution_count": 4,
      "outputs": []
    },
    {
      "cell_type": "markdown",
      "source": [
        "7. How can you handle multiple exceptions in Python?\n",
        "\n",
        "-> Multiple exceptions can be handled by using multiple except blocks or by grouping exceptions in a tuple."
      ],
      "metadata": {
        "id": "ujyl34ql8nFv"
      }
    },
    {
      "cell_type": "code",
      "source": [
        "try:\n",
        "    x = int(input(\"Enter a number: \"))\n",
        "    result = 10 / x\n",
        "except (ValueError, ZeroDivisionError) as e:\n",
        "    print(f\"Error: {e}\")\n",
        "except Exception:\n",
        "    print(\"Something else went wrong\")"
      ],
      "metadata": {
        "colab": {
          "base_uri": "https://localhost:8080/"
        },
        "id": "5HKszO_c8vw9",
        "outputId": "c5ee0afe-0611-40a8-e837-646e0c64208b"
      },
      "execution_count": 5,
      "outputs": [
        {
          "output_type": "stream",
          "name": "stdout",
          "text": [
            "Enter a number: abhay\n",
            "Error: invalid literal for int() with base 10: 'abhay'\n"
          ]
        }
      ]
    },
    {
      "cell_type": "markdown",
      "source": [
        "8.  What is the purpose of the with statement when handling files in Python?\n",
        "\n",
        "-> The with statement provides a cleaner way to handle resources that need setup and cleanup actions. For files, it automatically closes the file when the block is exited, even if exceptions occur."
      ],
      "metadata": {
        "id": "kAqlQucD9Ay_"
      }
    },
    {
      "cell_type": "code",
      "source": [
        "file = open(\"example.txt\", \"w\")\n",
        "try:\n",
        "    file.write(\"Hello World\")\n",
        "finally:\n",
        "    file.close()\n",
        "\n",
        "with open(\"example.txt\", \"w\") as file:\n",
        "    file.write(\"Hello World\")"
      ],
      "metadata": {
        "id": "TiEQh6B39MWZ"
      },
      "execution_count": null,
      "outputs": []
    },
    {
      "cell_type": "markdown",
      "source": [
        "9. What is the difference between multithreading and multiprocessin?\n",
        "\n",
        "-> Multithreading: Multiple threads within a single process share the same memory space, but can only execute one at a time due to Python's Global Interpreter Lock (GIL). Good for I/O-bound tasks.\n",
        "\n",
        "Multiprocessing: Multiple processes run independently with separate memory spaces, allowing true parallel execution. Better for CPU-bound tasks."
      ],
      "metadata": {
        "id": "HUpjRr6M9Rx4"
      }
    },
    {
      "cell_type": "markdown",
      "source": [
        "10. What are the advantages of using logging in a program?\n",
        "\n",
        "-> Advantages of using logging in a program:\n",
        "\n",
        "Provides a standardized way to output information\n",
        "\n",
        "Different severity levels (DEBUG, INFO, WARNING, ERROR, CRITICAL)\n",
        "\n",
        "Can be configured to output to different destinations (console, files)\n",
        "\n",
        "More flexible than print statements (can be enabled/disabled without code changes)\n",
        "\n",
        "Includes contextual information like timestamps, line numbers, etc."
      ],
      "metadata": {
        "id": "ol9qj62J9a1n"
      }
    },
    {
      "cell_type": "markdown",
      "source": [
        "11. What is memory management in Python?\n",
        "\n",
        "-> Memory management in Python is handled automatically through a combination of reference counting and garbage collection. Python allocates and deallocates memory for objects as needed without requiring explicit memory allocation/deallocation from the programmer."
      ],
      "metadata": {
        "id": "PTRccged9sTc"
      }
    },
    {
      "cell_type": "markdown",
      "source": [
        "12. What are the basic steps involved in exception handling in Python?\n",
        "\n",
        "-> Basic steps involved in exception handling in Python:\n",
        "\n",
        "Place code that might raise exceptions in a try block\n",
        "\n",
        "Catch specific exceptions using except blocks\n",
        "\n",
        "Optionally include an else block for code that executes if no exception occurs\n",
        "\n",
        "Optionally include a finally block for cleanup code that always executes"
      ],
      "metadata": {
        "id": "JjJV8o8T9y_E"
      }
    },
    {
      "cell_type": "code",
      "source": [
        "try:\n",
        "    result = 10 / 0\n",
        "except ZeroDivisionError:\n",
        "    print(\"Cannot divide by zero\")\n",
        "except Exception as e:\n",
        "    print(f\"An error occurred: {e}\")\n",
        "else:\n",
        "    print(\"Division successful\")\n",
        "finally:\n",
        "    print(\"This will always execute\")"
      ],
      "metadata": {
        "colab": {
          "base_uri": "https://localhost:8080/"
        },
        "id": "oE8lASGN99kP",
        "outputId": "47cded57-7cd3-4d45-c76d-efd1b3e27c46"
      },
      "execution_count": 6,
      "outputs": [
        {
          "output_type": "stream",
          "name": "stdout",
          "text": [
            "Cannot divide by zero\n",
            "This will always execute\n"
          ]
        }
      ]
    },
    {
      "cell_type": "markdown",
      "source": [
        "13. Why is memory management important in Python?\n",
        "\n",
        "-> memory management is important in Python:\n",
        "\n",
        "Python handles memory automatically, but understanding it helps write efficient code\n",
        "\n",
        "Prevents memory leaks in long-running programs\n",
        "\n",
        "Helps optimize performance for memory-intensive applications\n",
        "\n",
        "Ensures timely cleanup of resources when they're no longer needed"
      ],
      "metadata": {
        "id": "JCGBPl_P-DYd"
      }
    },
    {
      "cell_type": "markdown",
      "source": [
        "14.  What is the role of try and except in exception handling?\n",
        "\n",
        "-> try: Identifies a block of code where exceptions might occur and that needs to be monitored\n",
        "\n",
        "except: Specifies how to handle specific exceptions that may be raised in the try block"
      ],
      "metadata": {
        "id": "BP45TpeX-UNJ"
      }
    },
    {
      "cell_type": "markdown",
      "source": [
        "15. How does Python's garbage collection system work?\n",
        "\n",
        "-> Python uses two mechanisms for garbage collection:\n",
        "\n",
        "Reference counting: Tracks how many references point to an object and frees memory when count reaches zero\n",
        "\n",
        "Cycle detection: Periodically detects and cleans up reference cycles that reference counting can't handle"
      ],
      "metadata": {
        "id": "1OQTFk8a-g5o"
      }
    },
    {
      "cell_type": "code",
      "source": [
        "import gc\n",
        "gc.collect()\n",
        "print(gc.get_count())\n",
        "\n",
        "gc.disable()\n",
        "gc.enable()"
      ],
      "metadata": {
        "colab": {
          "base_uri": "https://localhost:8080/"
        },
        "id": "e8SF38Nu-z-8",
        "outputId": "c905b3e2-1b42-406a-9e77-cd1a048f8e34"
      },
      "execution_count": 7,
      "outputs": [
        {
          "output_type": "stream",
          "name": "stdout",
          "text": [
            "(21, 0, 0)\n"
          ]
        }
      ]
    },
    {
      "cell_type": "markdown",
      "source": [
        "16.  What is the purpose of the else block in exception handling?\n",
        "\n",
        "-> The else block contains code that executes only if no exceptions were raised in the try block. It provides a clear separation between the normal case (else) and the exceptional case (except)."
      ],
      "metadata": {
        "id": "lDxIY0l4-7ae"
      }
    },
    {
      "cell_type": "markdown",
      "source": [
        "17. What are the common logging levels in Python?\n",
        "\n",
        "-> From lowest to highest severity:\n",
        "\n",
        "DEBUG: Detailed information for diagnosing problems.\n",
        "\n",
        "INFO: Confirmation that things are working as expected.\n",
        "\n",
        "WARNING: Something unexpected happened, but the program is still working.\n",
        "\n",
        "ERROR: A more serious problem prevented a function from working.\n",
        "\n",
        "CRITICAL: A serious error that might prevent the program from continuing."
      ],
      "metadata": {
        "id": "YBn8mEYU_ER4"
      }
    },
    {
      "cell_type": "code",
      "source": [
        "import logging\n",
        "logging.basicConfig(level=logging.INFO)\n",
        "\n",
        "logging.debug(\"Debug message\")\n",
        "logging.info(\"Info message\")\n",
        "logging.warning(\"Warning message\")\n",
        "logging.error(\"Error message\")\n",
        "logging.critical(\"Critical message\")"
      ],
      "metadata": {
        "colab": {
          "base_uri": "https://localhost:8080/"
        },
        "id": "-cJiZ1k-_TqZ",
        "outputId": "6c5dcf3a-fcd6-4b19-bcc4-ae532f4550fe"
      },
      "execution_count": 8,
      "outputs": [
        {
          "output_type": "stream",
          "name": "stderr",
          "text": [
            "WARNING:root:Warning message\n",
            "ERROR:root:Error message\n",
            "CRITICAL:root:Critical message\n"
          ]
        }
      ]
    },
    {
      "cell_type": "markdown",
      "source": [
        "18. What is the difference between os.fork() and multiprocessing in Python?\n",
        "\n",
        "-> os.fork(): A low-level system call that creates a child process (Unix-like systems only)\n",
        "\n",
        "multiprocessing: A higher-level, cross-platform module that provides an API for creating and managing processes"
      ],
      "metadata": {
        "id": "TXsufGqn_dSR"
      }
    },
    {
      "cell_type": "code",
      "source": [
        "import multiprocessing\n",
        "\n",
        "def worker():\n",
        "    print(\"Worker process\")\n",
        "\n",
        "if __name__ == \"__main__\":\n",
        "    process = multiprocessing.Process(target=worker)\n",
        "    process.start()\n",
        "    process.join()"
      ],
      "metadata": {
        "colab": {
          "base_uri": "https://localhost:8080/"
        },
        "id": "A-m0JfEp_nDZ",
        "outputId": "94b5df0c-183a-4c8e-ccf9-23574de26520"
      },
      "execution_count": 9,
      "outputs": [
        {
          "output_type": "stream",
          "name": "stdout",
          "text": [
            "Worker process\n"
          ]
        }
      ]
    },
    {
      "cell_type": "markdown",
      "source": [
        "19. What is the importance of closing a file in Python?\n",
        "\n",
        "-> Releases system resources promptly\n",
        "\n",
        "Ensures data is flushed to disk\n",
        "\n",
        "Prevents data corruption\n",
        "\n",
        "Allows other programs to access the file\n",
        "\n",
        "Prevents reaching operating system limits on open files"
      ],
      "metadata": {
        "id": "8bSUW9-U_07M"
      }
    },
    {
      "cell_type": "markdown",
      "source": [
        "20.  What is the difference between file.read() and file.readline() in Python?\n",
        "\n",
        "-> file.read(): Reads the entire file content at once or a specified number of bytes\n",
        "\n",
        "file.readline(): Reads one line at a time, stopping at newline characters"
      ],
      "metadata": {
        "id": "vv7Sj_ZNAH4m"
      }
    },
    {
      "cell_type": "markdown",
      "source": [
        "21.  What is the logging module in Python used for?\n",
        "\n",
        "-> logging module in Python is used for:\n",
        "\n",
        "Recording program execution events.\n",
        "\n",
        "Providing an organized, configurable way to track issues.\n",
        "\n",
        "Separating different types of messages (debug, info, warnings, errors).\n",
        "\n",
        "Directing log output to various destinations (console, file, network).\n",
        "\n",
        "Adding contextual information like timestamps and source locations."
      ],
      "metadata": {
        "id": "oGwBeiZLAoTp"
      }
    },
    {
      "cell_type": "markdown",
      "source": [
        "22.  What is the os module in Python used for in file handling?\n",
        "\n",
        "-> os module in Python for file handling is used for:\n",
        "\n",
        "File system operations (create, delete, rename files and directories)\n",
        "\n",
        "Getting file information (size, modification time)\n",
        "\n",
        "Working with paths in a platform-independent way\n",
        "\n",
        "Managing file permissions\n",
        "\n",
        "Environment variables and process management"
      ],
      "metadata": {
        "id": "M2fgM87IA2kV"
      }
    },
    {
      "cell_type": "code",
      "source": [
        "import os\n",
        "\n",
        "os.mkdir(\"new_directory\")\n",
        "\n",
        "if os.path.exists(\"file.txt\"):\n",
        "\n",
        "    size = os.path.getsize(\"file.txt\")\n",
        "\n",
        "    os.remove(\"file.txt\")"
      ],
      "metadata": {
        "id": "d9BcgL5HBAeu"
      },
      "execution_count": null,
      "outputs": []
    },
    {
      "cell_type": "markdown",
      "source": [
        "23.  What are the challenges associated with memory management in Python?\n",
        "\n",
        "-> Challenges associated with memory management in Python:\n",
        "\n",
        "Managing large data structures efficiently\n",
        "\n",
        "Memory leaks from circular references\n",
        "\n",
        "High memory usage due to Python's object overhead\n",
        "\n",
        "Performance impact of garbage collection"
      ],
      "metadata": {
        "id": "DbQyCDE6BG9t"
      }
    },
    {
      "cell_type": "markdown",
      "source": [
        "24.  How do you raise an exception manually in Python?\n",
        "\n",
        "-> example:-"
      ],
      "metadata": {
        "id": "7I9ZnJSTBRFI"
      }
    },
    {
      "cell_type": "code",
      "source": [
        "def validate_age(age):\n",
        "    if age < 0:\n",
        "        raise ValueError(\"Age cannot be negative\")\n",
        "    if age > 120:\n",
        "        raise ValueError(\"Age is too high\")\n",
        "    return f\"Age {age} is valid\"\n",
        "\n",
        "try:\n",
        "    print(validate_age(-5))\n",
        "except ValueError as e:\n",
        "    print(f\"Validation error: {e}\")"
      ],
      "metadata": {
        "colab": {
          "base_uri": "https://localhost:8080/"
        },
        "id": "rjvY7Li5BZNr",
        "outputId": "7d69c40a-d42b-43c1-c62e-c3f3cdd09e30"
      },
      "execution_count": 11,
      "outputs": [
        {
          "output_type": "stream",
          "name": "stdout",
          "text": [
            "Validation error: Age cannot be negative\n"
          ]
        }
      ]
    },
    {
      "cell_type": "markdown",
      "source": [
        "25. Why is it important to use multithreading in certain applications?\n",
        "\n",
        "-> Improves responsiveness in UI applications\n",
        "\n",
        "Handles concurrent I/O operations efficiently (network, file, database)\n",
        "\n",
        "Makes better use of available CPU time during I/O waits\n",
        "\n",
        "Simplifies code structure for asynchronous operations\n",
        "\n",
        "Can improve performance for I/O-bound applications"
      ],
      "metadata": {
        "id": "dz4hHw1IBluN"
      }
    },
    {
      "cell_type": "markdown",
      "source": [
        "# Coding Questions:-"
      ],
      "metadata": {
        "id": "bM8BGhElBvi5"
      }
    },
    {
      "cell_type": "code",
      "source": [
        "# 2. How can you open a file for writing in Python and write a string to it?\n",
        "\n",
        "file = open(\"example.txt\", \"w\")\n",
        "file.write(\"Hello World\")\n",
        "file.write(\"\\n This is a new line\")\n",
        "file.close()"
      ],
      "metadata": {
        "id": "2QuUW3F9N5Ch"
      },
      "execution_count": 14,
      "outputs": []
    },
    {
      "cell_type": "code",
      "source": [
        "# 2.  Write a Python program to read the contents of a file and print each line\n",
        "\n",
        "file = open(\"example.txt\", \"r\")\n",
        "for line in file:\n",
        "    print(line)\n",
        "file.close()"
      ],
      "metadata": {
        "colab": {
          "base_uri": "https://localhost:8080/"
        },
        "id": "kuKv_dFXOECo",
        "outputId": "0f55e9dc-1cde-4f5b-8136-0fc99c48c5d7"
      },
      "execution_count": 15,
      "outputs": [
        {
          "output_type": "stream",
          "name": "stdout",
          "text": [
            "Hello World\n",
            "\n",
            " This is a new line\n"
          ]
        }
      ]
    },
    {
      "cell_type": "code",
      "source": [
        "# 3.  How would you handle a case where the file doesn't exist while trying to open it for reading?\n",
        "\n",
        "try:\n",
        "    with open(\"nonexistent_file.txt\", \"r\") as file:\n",
        "        content = file.read()\n",
        "except FileNotFoundError:\n",
        "    print(\"The file does not exist.\")"
      ],
      "metadata": {
        "colab": {
          "base_uri": "https://localhost:8080/"
        },
        "id": "G8_Re472OXrF",
        "outputId": "070c96d9-5e0f-4e1a-df8f-77be3b50d722"
      },
      "execution_count": 16,
      "outputs": [
        {
          "output_type": "stream",
          "name": "stdout",
          "text": [
            "The file does not exist.\n"
          ]
        }
      ]
    },
    {
      "cell_type": "code",
      "source": [
        "# 4.  Write a Python script that reads from one file and writes its content to another file\n",
        "\n",
        "with open(\"example.txt\", \"r\") as source_file:\n",
        "    content = source_file.read()\n",
        "\n",
        "with open(\"new_file.txt\", \"w\") as target_file:\n",
        "    target_file.write(content)"
      ],
      "metadata": {
        "id": "WcF2fs_bOuk4"
      },
      "execution_count": 17,
      "outputs": []
    },
    {
      "cell_type": "code",
      "source": [
        "# 5.  How would you catch and handle division by zero error in Python?\n",
        "\n",
        "try:\n",
        "    result = 10 / 0\n",
        "except ZeroDivisionError:\n",
        "    print(\"Cannot divide by zero\")\n",
        "except Exception as e:\n",
        "    print(f\"An error occurred: {e}\")"
      ],
      "metadata": {
        "colab": {
          "base_uri": "https://localhost:8080/"
        },
        "id": "dOm2kT_QPLh9",
        "outputId": "2f363002-749b-4c9f-d823-ca24c57a0ffc"
      },
      "execution_count": 18,
      "outputs": [
        {
          "output_type": "stream",
          "name": "stdout",
          "text": [
            "Cannot divide by zero\n"
          ]
        }
      ]
    },
    {
      "cell_type": "code",
      "source": [
        "# 6.  Write a Python program that logs an error message to a log file when a division by zero exception occurs.\n",
        "\n",
        "import logging\n",
        "\n",
        "logging.basicConfig(filename='error.log', level=logging.ERROR, format='%(asctime)s - %(levelname)s - %(message)s')\n",
        "\n",
        "try:\n",
        "    result = 10 / 0\n",
        "except ZeroDivisionError as e:\n",
        "    logging.error(f\"Division by zero error occurred: {e}\")\n",
        "    print(\"An error occurred. Check the error log for details.\")"
      ],
      "metadata": {
        "colab": {
          "base_uri": "https://localhost:8080/"
        },
        "id": "VKR3F2YEPTNH",
        "outputId": "87c3cc2d-20f1-486b-88bc-1c31d27b3ff7"
      },
      "execution_count": 19,
      "outputs": [
        {
          "output_type": "stream",
          "name": "stderr",
          "text": [
            "ERROR:root:Division by zero error occurred: division by zero\n"
          ]
        },
        {
          "output_type": "stream",
          "name": "stdout",
          "text": [
            "An error occurred. Check the error log for details.\n"
          ]
        }
      ]
    },
    {
      "cell_type": "code",
      "source": [
        "# 7.  How do you log information at different levels (INFO, ERROR, WARNING) in Python using the logging module\n",
        "\n",
        "import logging\n",
        "\n",
        "logging.basicConfig(level=logging.INFO)\n",
        "\n",
        "logging.debug(\"Debug message\")\n",
        "logging.info(\"Info message\")\n",
        "logging.warning(\"Warning message\")\n",
        "logging.error(\"Error message\")\n",
        "logging.critical(\"Critical message\")"
      ],
      "metadata": {
        "colab": {
          "base_uri": "https://localhost:8080/"
        },
        "id": "aHFNmsIwPqco",
        "outputId": "497da17f-69ef-4a3d-d24a-f4cf1e1ce9fd"
      },
      "execution_count": 20,
      "outputs": [
        {
          "output_type": "stream",
          "name": "stderr",
          "text": [
            "WARNING:root:Warning message\n",
            "ERROR:root:Error message\n",
            "CRITICAL:root:Critical message\n"
          ]
        }
      ]
    },
    {
      "cell_type": "code",
      "source": [
        "# 8. Write a program to handle a file opening error using exception handling.\n",
        "\n",
        "try:\n",
        "  with open(\"nonexistent_file.txt\", \"r\") as file:\n",
        "    content = file.read()\n",
        "except FileNotFoundError:\n",
        "    print(\"The file does not exist.\")"
      ],
      "metadata": {
        "colab": {
          "base_uri": "https://localhost:8080/"
        },
        "id": "XN1WtxpUQKxg",
        "outputId": "417efcad-4d39-46ca-ff97-0c1883eb6185"
      },
      "execution_count": 21,
      "outputs": [
        {
          "output_type": "stream",
          "name": "stdout",
          "text": [
            "The file does not exist.\n"
          ]
        }
      ]
    },
    {
      "cell_type": "code",
      "source": [
        "# 9.  How can you read a file line by line and store its content in a list in Python?\n",
        "\n",
        "with open(\"example.txt\", \"r\") as file:\n",
        "    lines = file.readlines()\n",
        "\n",
        "for line in lines:\n",
        "    print(line)"
      ],
      "metadata": {
        "colab": {
          "base_uri": "https://localhost:8080/"
        },
        "id": "LS9_tpQjQ6Fz",
        "outputId": "ef63ad3e-b7c8-431b-a0ce-46582a438b71"
      },
      "execution_count": 22,
      "outputs": [
        {
          "output_type": "stream",
          "name": "stdout",
          "text": [
            "Hello World\n",
            "\n",
            " This is a new line\n"
          ]
        }
      ]
    },
    {
      "cell_type": "code",
      "source": [
        "# 10.  How can you append data to an existing file in Python\n",
        "\n",
        "with open(\"example.txt\", \"a\") as file:\n",
        "    file.write(\"\\n Appended line\")"
      ],
      "metadata": {
        "id": "zmt6PNHsRFJy"
      },
      "execution_count": 23,
      "outputs": []
    },
    {
      "cell_type": "code",
      "source": [
        "# 11.  Write a Python program that uses a try-except block to handle an error when attempting to access a dictionary key that doesn't exist.\n",
        "\n",
        "my_dict = {'a': 1, 'b': 2, 'c': 3}\n",
        "\n",
        "try:\n",
        "    value = my_dict['d']\n",
        "except KeyError:\n",
        "    print(\"Key not found in the dictionary\")"
      ],
      "metadata": {
        "colab": {
          "base_uri": "https://localhost:8080/"
        },
        "id": "_YvEInfwRLb7",
        "outputId": "f8fd12e1-ae90-46df-905d-58c1c8b4323c"
      },
      "execution_count": 24,
      "outputs": [
        {
          "output_type": "stream",
          "name": "stdout",
          "text": [
            "Key not found in the dictionary\n"
          ]
        }
      ]
    },
    {
      "cell_type": "code",
      "source": [
        "# 12.  Write a program that demonstrates using multiple except blocks to handle different types of exceptions.\n",
        "\n",
        "try:\n",
        "  den = input(\"Enter denominator:- \")\n",
        "  result = 10/den;\n",
        "except ZeroDivisionError:\n",
        "    print(\"Cannot divide by zero\")\n",
        "except ValueError as e:\n",
        "    print(f\"An error occurred: {e}\")\n",
        "except Exception as e:\n",
        "    print(f\"An error occurred: {e}\")"
      ],
      "metadata": {
        "colab": {
          "base_uri": "https://localhost:8080/"
        },
        "id": "DEYGlfPIRYPB",
        "outputId": "172b61d4-02ae-44f5-b10a-39a900456f9c"
      },
      "execution_count": 26,
      "outputs": [
        {
          "output_type": "stream",
          "name": "stdout",
          "text": [
            "Enter denominator:- abhay\n",
            "An error occurred: unsupported operand type(s) for /: 'int' and 'str'\n"
          ]
        }
      ]
    },
    {
      "cell_type": "code",
      "source": [
        "# 13.  How would you check if a file exists before attempting to read it in Python.\n",
        "\n",
        "import os\n",
        "\n",
        "def read_file_if_exists(filename):\n",
        "    if os.path.exists(filename):\n",
        "        with open(filename, \"r\") as file:\n",
        "            content = file.read()\n",
        "            return content\n",
        "    else:\n",
        "        print(f\"The file '{filename}' does not exist.\")\n",
        "        return None\n",
        "\n",
        "content = read_file_if_exists(\"example.txt\")"
      ],
      "metadata": {
        "id": "DLFqdfmcSPIu"
      },
      "execution_count": 27,
      "outputs": []
    },
    {
      "cell_type": "code",
      "source": [
        "# 14.  Write a program that uses the logging module to log both informational and error messages\n",
        "\n",
        "import logging\n",
        "\n",
        "logging.basicConfig(level=logging.INFO)\n",
        "\n",
        "logging.debug(\"Debug message\")\n",
        "logging.info(\"Info message\")\n",
        "logging.warning(\"Warning message\")\n",
        "logging.error(\"Error message\")\n",
        "logging.critical(\"Critical message\")"
      ],
      "metadata": {
        "colab": {
          "base_uri": "https://localhost:8080/"
        },
        "id": "-xfxmmAeSsyw",
        "outputId": "83a6a7b4-f4fd-4513-b204-b99ca382d205"
      },
      "execution_count": 28,
      "outputs": [
        {
          "output_type": "stream",
          "name": "stderr",
          "text": [
            "WARNING:root:Warning message\n",
            "ERROR:root:Error message\n",
            "CRITICAL:root:Critical message\n"
          ]
        }
      ]
    },
    {
      "cell_type": "code",
      "source": [
        "# 15.  Write a Python program that prints the content of a file and handles the case when the file is empty.\n",
        "\n",
        "def print_file_content(filename):\n",
        "    try:\n",
        "        with open(filename, \"r\") as file:\n",
        "            content = file.read()\n",
        "            if content:\n",
        "                print(\"File content:\")\n",
        "                print(content)\n",
        "            else:\n",
        "                print(f\"The file '{filename}' is empty.\")\n",
        "    except FileNotFoundError:\n",
        "        print(f\"The file '{filename}' does not exist.\")\n",
        "\n",
        "print_file_content(\"example.txt\")"
      ],
      "metadata": {
        "colab": {
          "base_uri": "https://localhost:8080/"
        },
        "id": "u26OZHo7Tied",
        "outputId": "2cc3dd98-83ea-4fc5-8f54-dcd5d02d382c"
      },
      "execution_count": 29,
      "outputs": [
        {
          "output_type": "stream",
          "name": "stdout",
          "text": [
            "File content:\n",
            "Hello World\n",
            " This is a new line\n",
            " Appended line\n"
          ]
        }
      ]
    },
    {
      "cell_type": "code",
      "source": [
        "# 16. Demonstrate how to use memory profiling to check the memory usage of a small program\n",
        "!pip install memory_profiler\n",
        "from memory_profiler import profile\n",
        "\n",
        "@profile\n",
        "def create_large_list():\n",
        "    large_list = [i for i in range(1000000)]\n",
        "    return sum(large_list)\n",
        "\n",
        "if __name__ == \"__main__\":\n",
        "    result = create_large_list()\n",
        "    print(f\"Result: {result}\")"
      ],
      "metadata": {
        "colab": {
          "base_uri": "https://localhost:8080/"
        },
        "id": "5rpgJiqEUNFY",
        "outputId": "e76c8b65-c998-4188-e651-d2a983d3f1a8"
      },
      "execution_count": 32,
      "outputs": [
        {
          "output_type": "stream",
          "name": "stdout",
          "text": [
            "Collecting memory_profiler\n",
            "  Downloading memory_profiler-0.61.0-py3-none-any.whl.metadata (20 kB)\n",
            "Requirement already satisfied: psutil in /usr/local/lib/python3.11/dist-packages (from memory_profiler) (5.9.5)\n",
            "Downloading memory_profiler-0.61.0-py3-none-any.whl (31 kB)\n",
            "Installing collected packages: memory_profiler\n",
            "Successfully installed memory_profiler-0.61.0\n"
          ]
        },
        {
          "output_type": "stream",
          "name": "stderr",
          "text": [
            "\n",
            "PYDEV DEBUGGER WARNING:\n",
            "sys.settrace() should not be used when the debugger is being used.\n",
            "This may cause the debugger to stop working correctly.\n",
            "If this is needed, please check: \n",
            "http://pydev.blogspot.com/2007/06/why-cant-pydev-debugger-work-with.html\n",
            "to see how to restore the debug tracing back correctly.\n",
            "Call Location:\n",
            "  File \"/usr/local/lib/python3.11/dist-packages/memory_profiler.py\", line 847, in enable\n",
            "    sys.settrace(self.trace_memory_usage)\n",
            "\n"
          ]
        },
        {
          "output_type": "stream",
          "name": "stdout",
          "text": [
            "ERROR: Could not find file <ipython-input-32-7fd211c21cf4>\n",
            "NOTE: %mprun can only be used on functions defined in physical files, and not in the IPython environment.\n"
          ]
        },
        {
          "output_type": "stream",
          "name": "stderr",
          "text": [
            "\n",
            "PYDEV DEBUGGER WARNING:\n",
            "sys.settrace() should not be used when the debugger is being used.\n",
            "This may cause the debugger to stop working correctly.\n",
            "If this is needed, please check: \n",
            "http://pydev.blogspot.com/2007/06/why-cant-pydev-debugger-work-with.html\n",
            "to see how to restore the debug tracing back correctly.\n",
            "Call Location:\n",
            "  File \"/usr/local/lib/python3.11/dist-packages/memory_profiler.py\", line 850, in disable\n",
            "    sys.settrace(self._original_trace_function)\n",
            "\n"
          ]
        },
        {
          "output_type": "stream",
          "name": "stdout",
          "text": [
            "Result: 499999500000\n"
          ]
        }
      ]
    },
    {
      "cell_type": "code",
      "source": [
        "# 17.  Write a Python program to create and write a list of numbers to a file, one number per line.\n",
        "\n",
        "def write_numbers_to_file(filename, numbers):\n",
        "    try:\n",
        "        with open(filename, \"w\") as file:\n",
        "            for number in numbers:\n",
        "                file.write(f\"{number}\\n\")\n",
        "        print(f\"Successfully wrote {len(numbers)} numbers to {filename}\")\n",
        "    except Exception as e:\n",
        "        print(f\"An error occurred: {e}\")\n",
        "\n",
        "numbers_list = [10, 20, 30, 40, 50]\n",
        "write_numbers_to_file(\"numbers.txt\", numbers_list)"
      ],
      "metadata": {
        "colab": {
          "base_uri": "https://localhost:8080/"
        },
        "id": "OUSzd7FwWENA",
        "outputId": "92fa1258-8d75-4b32-d9ae-cbb064dbf406"
      },
      "execution_count": 33,
      "outputs": [
        {
          "output_type": "stream",
          "name": "stdout",
          "text": [
            "Successfully wrote 5 numbers to numbers.txt\n"
          ]
        }
      ]
    },
    {
      "cell_type": "code",
      "source": [
        "# 18.  How would you implement a basic logging setup that logs to a file with rotation after 1MB.\n",
        "\n",
        "import logging\n",
        "from logging.handlers import RotatingFileHandler\n",
        "\n",
        "def setup_rotating_logger():\n",
        "    logger = logging.getLogger('my_app')\n",
        "    logger.setLevel(logging.INFO)\n",
        "\n",
        "    handler = RotatingFileHandler(\n",
        "        'app.log',\n",
        "        maxBytes=1024*1024,\n",
        "        backupCount=5\n",
        "    )\n",
        "\n",
        "    formatter = logging.Formatter('%(asctime)s - %(name)s - %(levelname)s - %(message)s')\n",
        "    handler.setFormatter(formatter)\n",
        "\n",
        "    logger.addHandler(handler)\n",
        "\n",
        "    return logger\n",
        "\n",
        "logger = setup_rotating_logger()\n",
        "logger.info(\"Application started\")\n",
        "logger.warning(\"This is a warning message\")\n",
        "logger.error(\"This is an error message\")"
      ],
      "metadata": {
        "colab": {
          "base_uri": "https://localhost:8080/"
        },
        "id": "rWw4rNshXF9t",
        "outputId": "d94759d2-9572-437a-b23e-2aaea95e7806"
      },
      "execution_count": 34,
      "outputs": [
        {
          "output_type": "stream",
          "name": "stderr",
          "text": [
            "INFO:my_app:Application started\n",
            "WARNING:my_app:This is a warning message\n",
            "ERROR:my_app:This is an error message\n"
          ]
        }
      ]
    },
    {
      "cell_type": "code",
      "source": [
        "# 19.  Write a program that handles both IndexError and KeyError using a try-except block.\n",
        "\n",
        "def safe_access(data_list, index, data_dict, key):\n",
        "    try:\n",
        "        list_value = data_list[index]\n",
        "        dict_value = data_dict[key]\n",
        "        return f\"List value: {list_value}, Dict value: {dict_value}\"\n",
        "    except IndexError:\n",
        "        print(f\"Error: Index {index} is out of range.\")\n",
        "    except KeyError:\n",
        "        print(f\"Error: Key '{key}' does not exist in the dictionary.\")\n",
        "    except Exception as e:\n",
        "        print(f\"An unexpected error occurred: {e}\")\n",
        "\n",
        "    return None\n",
        "\n",
        "my_list = [10, 20, 30]\n",
        "my_dict = {\"a\": 1, \"b\": 2, \"c\": 3}\n",
        "\n",
        "print(safe_access(my_list, 1, my_dict, \"b\"))\n",
        "print(safe_access(my_list, 5, my_dict, \"b\"))\n",
        "print(safe_access(my_list, 1, my_dict, \"z\"))"
      ],
      "metadata": {
        "colab": {
          "base_uri": "https://localhost:8080/"
        },
        "id": "MWx9mIzLX-y7",
        "outputId": "e3b6db86-a17f-402b-af4a-c4e42ed8df79"
      },
      "execution_count": 35,
      "outputs": [
        {
          "output_type": "stream",
          "name": "stdout",
          "text": [
            "List value: 20, Dict value: 2\n",
            "Error: Index 5 is out of range.\n",
            "None\n",
            "Error: Key 'z' does not exist in the dictionary.\n",
            "None\n"
          ]
        }
      ]
    },
    {
      "cell_type": "code",
      "source": [
        "# 20.  How would you open a file and read its contents using a context manager in Python?\n",
        "\n",
        "def read_file_with_context_manager(filename):\n",
        "    try:\n",
        "        with open(filename, \"r\") as file:\n",
        "            content = file.read()\n",
        "            return content\n",
        "    except FileNotFoundError:\n",
        "        print(f\"The file '{filename}' does not exist.\")\n",
        "        return None\n",
        "\n",
        "content = read_file_with_context_manager(\"example.txt\")\n",
        "print(content)"
      ],
      "metadata": {
        "colab": {
          "base_uri": "https://localhost:8080/"
        },
        "id": "chvAoEoqYS11",
        "outputId": "d340bffd-9492-4829-ee1f-6dce85adc32a"
      },
      "execution_count": 36,
      "outputs": [
        {
          "output_type": "stream",
          "name": "stdout",
          "text": [
            "Hello World\n",
            " This is a new line\n",
            " Appended line\n"
          ]
        }
      ]
    },
    {
      "cell_type": "code",
      "source": [
        "# 21.  Write a Python program that reads a file and prints the number of occurrences of a specific word.\n",
        "\n",
        "def count_word_occurrences(filename, word):\n",
        "    try:\n",
        "        with open(filename, \"r\") as file:\n",
        "            content = file.read().lower()\n",
        "            word_count = content.split().count(word.lower())\n",
        "            print(f\"The word '{word}' appears {word_count} times in the file.\")\n",
        "            return word_count\n",
        "    except FileNotFoundError:\n",
        "        print(f\"The file '{filename}' does not exist.\")\n",
        "        return 0\n",
        "\n",
        "count_word_occurrences(\"example.txt\", \"python\")"
      ],
      "metadata": {
        "colab": {
          "base_uri": "https://localhost:8080/"
        },
        "id": "AC3oBdA5Ywh1",
        "outputId": "e8627692-4649-422d-8651-f9f06dac9371"
      },
      "execution_count": 37,
      "outputs": [
        {
          "output_type": "stream",
          "name": "stdout",
          "text": [
            "The word 'python' appears 0 times in the file.\n"
          ]
        },
        {
          "output_type": "execute_result",
          "data": {
            "text/plain": [
              "0"
            ]
          },
          "metadata": {},
          "execution_count": 37
        }
      ]
    },
    {
      "cell_type": "code",
      "source": [
        "#22.  How can you check if a file is empty before attempting to read its contents.\n",
        "\n",
        "import os\n",
        "\n",
        "def is_file_empty(filename):\n",
        "    if not os.path.exists(filename):\n",
        "        print(f\"The file '{filename}' does not exist.\")\n",
        "        return None\n",
        "\n",
        "    if os.path.getsize(filename) == 0:\n",
        "        return True\n",
        "    else:\n",
        "        return False\n",
        "\n",
        "def read_non_empty_file(filename):\n",
        "    if os.path.exists(filename):\n",
        "        if not is_file_empty(filename):\n",
        "            with open(filename, \"r\") as file:\n",
        "                content = file.read()\n",
        "                return content\n",
        "        else:\n",
        "            print(f\"The file '{filename}' is empty.\")\n",
        "            return \"\"\n",
        "    else:\n",
        "        print(f\"The file '{filename}' does not exist.\")\n",
        "        return None\n",
        "\n",
        "content = read_non_empty_file(\"example.txt\")\n",
        "print(content)"
      ],
      "metadata": {
        "colab": {
          "base_uri": "https://localhost:8080/"
        },
        "id": "YK-BIN--Y_rY",
        "outputId": "f978c8e7-d345-4c38-a0a6-64a67d90196b"
      },
      "execution_count": 38,
      "outputs": [
        {
          "output_type": "stream",
          "name": "stdout",
          "text": [
            "Hello World\n",
            " This is a new line\n",
            " Appended line\n"
          ]
        }
      ]
    },
    {
      "cell_type": "code",
      "source": [
        "# 23. Write a Python program that writes to a log file when an error occurs during file handling.\n",
        "\n",
        "import logging\n",
        "import os\n",
        "\n",
        "# Configure logging\n",
        "logging.basicConfig(\n",
        "    filename='file_operations.log',\n",
        "    level=logging.ERROR,\n",
        ")\n",
        "\n",
        "def process_file(input_filename, output_filename):\n",
        "    try:\n",
        "        if not os.path.exists(input_filename):\n",
        "            raise FileNotFoundError(f\"Input file '{input_filename}' does not exist\")\n",
        "\n",
        "        with open(input_filename, \"r\") as input_file:\n",
        "            content = input_file.read()\n",
        "\n",
        "        processed_content = content.upper()\n",
        "\n",
        "        with open(output_filename, \"w\") as output_file:\n",
        "            output_file.write(processed_content)\n",
        "\n",
        "        print(f\"Successfully processed '{input_filename}' and saved to '{output_filename}'\")\n",
        "\n",
        "    except FileNotFoundError as e:\n",
        "        error_msg = f\"File not found: {e}\"\n",
        "        logging.error(error_msg)\n",
        "        print(error_msg)\n",
        "    except Exception as e:\n",
        "        error_msg = f\"Unexpected error during file handling: {e}\"\n",
        "        logging.error(error_msg)\n",
        "        print(error_msg)\n",
        "\n",
        "process_file(\"input.txt\", \"output.txt\")"
      ],
      "metadata": {
        "colab": {
          "base_uri": "https://localhost:8080/"
        },
        "id": "HBxQv_CgZQrp",
        "outputId": "cbaf1447-5b77-4fe5-a2af-641d3ac683a5"
      },
      "execution_count": 40,
      "outputs": [
        {
          "output_type": "stream",
          "name": "stderr",
          "text": [
            "ERROR:root:File not found: Input file 'input.txt' does not exist\n"
          ]
        },
        {
          "output_type": "stream",
          "name": "stdout",
          "text": [
            "File not found: Input file 'input.txt' does not exist\n"
          ]
        }
      ]
    }
  ]
}